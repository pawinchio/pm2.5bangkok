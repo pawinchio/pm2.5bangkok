{
 "cells": [
  {
   "cell_type": "markdown",
   "metadata": {},
   "source": [
    "### PM2.5 Data (Berkeley Earth)"
   ]
  },
  {
   "cell_type": "markdown",
   "metadata": {},
   "source": [
    "- Bangkok 13.754,100.5014\n",
    "- hourly data since 2016-03-03 (use this one)\n",
    "   - http://berkeleyearth.lbl.gov/air-quality/maps/cities/Thailand/Bangkok/Bangkok.txt\n",
    "- Air4Thai (only latest 2 months) 50t = Chula hospital station\n",
    "   - http://air4thai.pcd.go.th/webV2/history/api/data.php?stationID=50t&param=PM25&type=hr&sdate=2018-10-01&edate=2019-01-17&stime=00&etime=24\n",
    "   - http://air4thai.pcd.go.th/webV2/history/"
   ]
  },
  {
   "cell_type": "markdown",
   "metadata": {},
   "source": [
    "### Weather Data (wunderground.com)\n",
    "- Patumwan Demonstration School weather station, since 2013-12-17 \n",
    "   - https://www.wunderground.com/personal-weather-station/dashboard?ID=IBANGKOK26#history/tdata/s20140210/e20140210/mdaily"
   ]
  },
  {
   "cell_type": "code",
   "execution_count": 5,
   "metadata": {},
   "outputs": [
    {
     "name": "stderr",
     "output_type": "stream",
     "text": [
      "\n",
      "  0%|          | 0/73 [00:00<?, ?it/s]\u001b[A\n",
      "  1%|▏         | 1/73 [00:05<06:15,  5.21s/it]\u001b[A\n",
      "  3%|▎         | 2/73 [00:07<05:02,  4.26s/it]\u001b[A\n",
      "  4%|▍         | 3/73 [00:09<04:07,  3.53s/it]\u001b[A\n",
      "  5%|▌         | 4/73 [00:09<02:57,  2.57s/it]\u001b[A"
     ]
    },
    {
     "name": "stdout",
     "output_type": "stream",
     "text": [
      "empty data on 20181111\n"
     ]
    },
    {
     "name": "stderr",
     "output_type": "stream",
     "text": [
      "\n",
      "  7%|▋         | 5/73 [00:09<02:09,  1.91s/it]\u001b[A"
     ]
    },
    {
     "name": "stdout",
     "output_type": "stream",
     "text": [
      "empty data on 20181112\n"
     ]
    },
    {
     "name": "stderr",
     "output_type": "stream",
     "text": [
      "\n",
      "  8%|▊         | 6/73 [00:17<04:07,  3.70s/it]\u001b[A\n",
      " 10%|▉         | 7/73 [00:25<05:33,  5.05s/it]\u001b[A\n",
      " 11%|█         | 8/73 [00:26<03:57,  3.65s/it]\u001b[A"
     ]
    },
    {
     "name": "stdout",
     "output_type": "stream",
     "text": [
      "empty data on 20181115\n"
     ]
    },
    {
     "name": "stderr",
     "output_type": "stream",
     "text": [
      "\n",
      " 12%|█▏        | 9/73 [00:36<06:07,  5.75s/it]\u001b[A\n",
      " 14%|█▎        | 10/73 [00:43<06:19,  6.02s/it]\u001b[A\n",
      " 15%|█▌        | 11/73 [00:46<05:21,  5.19s/it]\u001b[A\n",
      " 16%|█▋        | 12/73 [00:47<03:45,  3.70s/it]\u001b[A"
     ]
    },
    {
     "name": "stdout",
     "output_type": "stream",
     "text": [
      "empty data on 20181119\n"
     ]
    },
    {
     "name": "stderr",
     "output_type": "stream",
     "text": [
      "\n",
      " 18%|█▊        | 13/73 [00:50<03:30,  3.50s/it]\u001b[A\n",
      " 19%|█▉        | 14/73 [00:53<03:28,  3.53s/it]\u001b[A\n",
      " 21%|██        | 15/73 [00:57<03:21,  3.48s/it]\u001b[A\n",
      " 22%|██▏       | 16/73 [01:01<03:34,  3.77s/it]\u001b[A\n",
      " 23%|██▎       | 17/73 [01:04<03:17,  3.53s/it]\u001b[A\n",
      " 25%|██▍       | 18/73 [01:08<03:16,  3.57s/it]\u001b[A\n",
      " 26%|██▌       | 19/73 [01:13<03:40,  4.08s/it]\u001b[A\n",
      " 27%|██▋       | 20/73 [01:20<04:27,  5.05s/it]\u001b[A\n",
      " 29%|██▉       | 21/73 [01:25<04:13,  4.87s/it]\u001b[A\n",
      " 30%|███       | 22/73 [01:30<04:14,  4.99s/it]\u001b[A\n",
      " 32%|███▏      | 23/73 [01:35<04:12,  5.05s/it]\u001b[A\n",
      " 33%|███▎      | 24/73 [01:41<04:26,  5.44s/it]\u001b[A\n",
      " 34%|███▍      | 25/73 [01:50<04:59,  6.25s/it]\u001b[A\n",
      " 36%|███▌      | 26/73 [01:54<04:33,  5.83s/it]\u001b[A\n",
      " 37%|███▋      | 27/73 [01:58<03:52,  5.06s/it]\u001b[A\n",
      " 38%|███▊      | 28/73 [02:02<03:34,  4.77s/it]\u001b[A\n",
      " 40%|███▉      | 29/73 [02:05<03:13,  4.40s/it]\u001b[A\n",
      " 41%|████      | 30/73 [02:09<02:56,  4.11s/it]\u001b[A\n",
      " 42%|████▏     | 31/73 [02:12<02:45,  3.93s/it]\u001b[A\n",
      " 44%|████▍     | 32/73 [02:16<02:41,  3.95s/it]\u001b[A\n",
      " 45%|████▌     | 33/73 [02:19<02:27,  3.70s/it]\u001b[A\n",
      " 47%|████▋     | 34/73 [02:22<02:16,  3.50s/it]\u001b[A\n",
      " 48%|████▊     | 35/73 [02:26<02:10,  3.43s/it]\u001b[A\n",
      " 49%|████▉     | 36/73 [02:33<02:50,  4.62s/it]\u001b[A\n",
      " 51%|█████     | 37/73 [02:38<02:50,  4.74s/it]\u001b[A\n",
      " 52%|█████▏    | 38/73 [02:41<02:27,  4.23s/it]\u001b[A\n",
      " 53%|█████▎    | 39/73 [02:45<02:16,  4.02s/it]\u001b[A\n",
      " 55%|█████▍    | 40/73 [02:48<02:06,  3.82s/it]\u001b[A\n",
      " 56%|█████▌    | 41/73 [02:51<01:59,  3.72s/it]\u001b[A\n",
      " 58%|█████▊    | 42/73 [02:55<01:49,  3.53s/it]\u001b[A\n",
      " 59%|█████▉    | 43/73 [02:58<01:40,  3.36s/it]\u001b[A\n",
      " 60%|██████    | 44/73 [03:01<01:37,  3.35s/it]\u001b[A\n",
      " 62%|██████▏   | 45/73 [03:05<01:36,  3.44s/it]\u001b[A\n",
      " 63%|██████▎   | 46/73 [03:08<01:30,  3.36s/it]\u001b[A\n",
      " 64%|██████▍   | 47/73 [03:14<01:51,  4.27s/it]\u001b[A\n",
      " 66%|██████▌   | 48/73 [03:18<01:46,  4.25s/it]\u001b[A\n",
      " 67%|██████▋   | 49/73 [03:22<01:37,  4.06s/it]\u001b[A\n",
      " 68%|██████▊   | 50/73 [03:26<01:30,  3.95s/it]\u001b[A\n",
      " 70%|██████▉   | 51/73 [03:29<01:23,  3.79s/it]\u001b[A\n",
      " 71%|███████   | 52/73 [03:33<01:19,  3.79s/it]\u001b[A\n",
      " 73%|███████▎  | 53/73 [03:37<01:16,  3.81s/it]\u001b[A\n",
      " 74%|███████▍  | 54/73 [03:40<01:09,  3.66s/it]\u001b[A\n",
      " 75%|███████▌  | 55/73 [03:43<01:04,  3.56s/it]\u001b[A\n",
      " 77%|███████▋  | 56/73 [03:46<00:58,  3.44s/it]\u001b[A\n",
      " 78%|███████▊  | 57/73 [03:50<00:54,  3.43s/it]\u001b[A\n",
      " 79%|███████▉  | 58/73 [03:53<00:51,  3.41s/it]\u001b[A\n",
      " 81%|████████  | 59/73 [03:57<00:49,  3.51s/it]\u001b[A\n",
      " 82%|████████▏ | 60/73 [04:00<00:44,  3.45s/it]\u001b[A\n",
      " 84%|████████▎ | 61/73 [04:03<00:39,  3.26s/it]\u001b[A\n",
      " 85%|████████▍ | 62/73 [04:06<00:36,  3.31s/it]\u001b[A\n",
      " 86%|████████▋ | 63/73 [04:10<00:33,  3.36s/it]\u001b[A\n",
      " 88%|████████▊ | 64/73 [04:14<00:31,  3.48s/it]\u001b[A\n",
      " 89%|████████▉ | 65/73 [04:17<00:27,  3.45s/it]\u001b[A\n",
      " 90%|█████████ | 66/73 [04:20<00:23,  3.37s/it]\u001b[A\n",
      " 92%|█████████▏| 67/73 [04:24<00:21,  3.59s/it]\u001b[A\n",
      " 93%|█████████▎| 68/73 [04:28<00:17,  3.57s/it]\u001b[A\n",
      " 95%|█████████▍| 69/73 [04:38<00:22,  5.56s/it]\u001b[A\n",
      " 96%|█████████▌| 70/73 [04:39<00:12,  4.00s/it]\u001b[A"
     ]
    },
    {
     "name": "stdout",
     "output_type": "stream",
     "text": [
      "empty data on 20190116\n"
     ]
    },
    {
     "name": "stderr",
     "output_type": "stream",
     "text": [
      "\n",
      " 97%|█████████▋| 71/73 [04:49<00:12,  6.00s/it]\u001b[A\n",
      " 99%|█████████▊| 72/73 [05:01<00:07,  7.67s/it]\u001b[A\n",
      "100%|██████████| 73/73 [05:04<00:00,  6.42s/it]\u001b[A\n",
      "\u001b[A"
     ]
    },
    {
     "name": "stdout",
     "output_type": "stream",
     "text": [
      "empty data on 20190119\n"
     ]
    }
   ],
   "source": [
    "import requests\n",
    "from requests.adapters import HTTPAdapter\n",
    "from requests.packages.urllib3.util.retry import Retry\n",
    "import json\n",
    "import pandas as pd\n",
    "from datetime import timedelta, date\n",
    "from tqdm import tqdm\n",
    "\n",
    "start_date = date(2016, 3, 3)\n",
    "end_date = date(2019, 1, 19)\n",
    "\n",
    "def requests_retry_session(\n",
    "    retries=3,\n",
    "    backoff_factor=0.3,\n",
    "    status_forcelist=(500, 502, 504),\n",
    "    session=None,\n",
    "):\n",
    "    session = session or requests.Session()\n",
    "    retry = Retry(\n",
    "        total=retries,\n",
    "        read=retries,\n",
    "        connect=retries,\n",
    "        backoff_factor=backoff_factor,\n",
    "        status_forcelist=status_forcelist,\n",
    "    )\n",
    "    adapter = HTTPAdapter(max_retries=retry)\n",
    "    session.mount('http://', adapter)\n",
    "    session.mount('https://', adapter)\n",
    "    return session\n",
    "\n",
    "def daterange(start_date, end_date):\n",
    "    for n in tqdm(range(int ((end_date - start_date).days))):\n",
    "        yield start_date + timedelta(n)\n",
    "\n",
    "write_header = 1\n",
    "write_header_file = 1 # change to 0 to continue without writing header to csv\n",
    "for single_date in daterange(start_date, end_date):\n",
    "    df_daily = pd.DataFrame()\n",
    "    ymd = single_date.strftime(\"%Y%m%d\")\n",
    "    url_test = \"https://api-ak.wunderground.com/api/606f3f6977348613/history_\"+ymd+\"null/units:metric/v:2.0/q/pws:IBANGKOK26.json\"\n",
    "    req = requests.get(url_test)\n",
    "    js = json.loads(req.text)\n",
    "    if js['history']['days'] == []:\n",
    "        print(\"empty data on\",ymd)\n",
    "        continue\n",
    "    for ob in js['history']['days'][0]['observations']:\n",
    "        ob['date'] = ob['date']['iso8601']\n",
    "        df_row = pd.DataFrame(ob, index=[0]) \n",
    "        df_row.index = df_row['date']\n",
    "        df_row = df_row.drop(columns=['date'])\n",
    "        if write_header == 1:\n",
    "            df_daily = df_row\n",
    "            write_header = 0\n",
    "        else:\n",
    "            df_daily = df_daily.append(df_row)\n",
    "\n",
    "    with open('patumwan_weather.csv','a+') as fd:\n",
    "        fd.write(df_daily.to_csv(header=write_header_file))\n",
    "        write_header_file = 0\n"
   ]
  },
  {
   "cell_type": "code",
   "execution_count": null,
   "metadata": {},
   "outputs": [],
   "source": []
  }
 ],
 "metadata": {
  "kernelspec": {
   "display_name": "Python 3",
   "language": "python",
   "name": "python3"
  },
  "language_info": {
   "codemirror_mode": {
    "name": "ipython",
    "version": 3
   },
   "file_extension": ".py",
   "mimetype": "text/x-python",
   "name": "python",
   "nbconvert_exporter": "python",
   "pygments_lexer": "ipython3",
   "version": "3.6.6"
  }
 },
 "nbformat": 4,
 "nbformat_minor": 2
}
